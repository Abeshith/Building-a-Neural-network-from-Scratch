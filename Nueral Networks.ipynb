{
 "cells": [
  {
   "cell_type": "code",
   "execution_count": 13,
   "id": "1d748d61-96c8-4e44-8a9b-edb74dd999f5",
   "metadata": {},
   "outputs": [],
   "source": [
    "import numpy as np\n",
    "import pandas as pd\n",
    "from sklearn.datasets import load_iris\n",
    "from sklearn.preprocessing import StandardScaler\n",
    "from sklearn.model_selection import train_test_split"
   ]
  },
  {
   "cell_type": "code",
   "execution_count": 14,
   "id": "f41ca928-6153-467f-b019-8bd08d513282",
   "metadata": {},
   "outputs": [],
   "source": [
    "iris = load_iris()\n",
    "X = iris.data\n",
    "y = iris.target"
   ]
  },
  {
   "cell_type": "code",
   "execution_count": 18,
   "id": "43fe60f5-3d3f-4103-a346-2f432303cedf",
   "metadata": {},
   "outputs": [],
   "source": [
    "# Convert labels to one-hot encoding\n",
    "y_onehot = np.zeros((y.size, y.max() + 1))\n",
    "y_onehot[np.arange(y.size), y] = 1\n",
    "\n",
    "# Standardize features\n",
    "scaler = StandardScaler()\n",
    "X_scaled = scaler.fit_transform(X)\n",
    "\n",
    "# Split into training and test sets\n",
    "X_train, X_test, y_train, y_test = train_test_split(X_scaled, y_onehot, test_size=0.2, random_state=42)"
   ]
  },
  {
   "cell_type": "code",
   "execution_count": 19,
   "id": "318665bd-df34-4c28-b6a7-362077b94e0b",
   "metadata": {},
   "outputs": [],
   "source": [
    "#Define the activation functions and their derivatives\n",
    "# Sigmoid activation function\n",
    "def sigmoid(x):\n",
    "    return 1 / (1 + np.exp(-x))\n",
    "\n",
    "def sigmoid_derivative(x):\n",
    "    return sigmoid(x) * (1 - sigmoid(x))\n",
    "\n",
    "def softmax(x):\n",
    "    exp_x = np.exp(x - np.max(x, axis=1, keepdims=True))\n",
    "    return exp_x / np.sum(exp_x, axis=1, keepdims=True)"
   ]
  },
  {
   "cell_type": "code",
   "execution_count": 20,
   "id": "e28b655c-5623-4e91-b848-2364a89e4b8a",
   "metadata": {},
   "outputs": [],
   "source": [
    "def cross_entropy_loss(y_true, y_pred):\n",
    "    return -np.mean(np.sum(y_true * np.log(y_pred + 1e-9), axis=1))"
   ]
  },
  {
   "cell_type": "code",
   "execution_count": 21,
   "id": "0914edaf-3712-426f-a568-b2911621a45d",
   "metadata": {},
   "outputs": [],
   "source": [
    "# Initialize weights and biases for a 3-layer neural network\n",
    "input_size = X_train.shape[1]\n",
    "hidden_size = 5\n",
    "output_size = y_train.shape[1]\n",
    "\n",
    "# Initialize weights and biases\n",
    "np.random.seed(42)\n",
    "W1 = np.random.randn(input_size, hidden_size)\n",
    "b1 = np.zeros((1, hidden_size))\n",
    "W2 = np.random.randn(hidden_size, output_size)\n",
    "b2 = np.zeros((1, output_size))"
   ]
  },
  {
   "cell_type": "code",
   "execution_count": 22,
   "id": "6f58af02-6521-4a00-b9c2-75c612eec15c",
   "metadata": {},
   "outputs": [],
   "source": [
    "#Define forward propagation\n",
    "def forward(X):\n",
    "    global A1, Z1, A2, Z2\n",
    "    Z1 = np.dot(X, W1) + b1\n",
    "    A1 = sigmoid(Z1)\n",
    "    Z2 = np.dot(A1, W2) + b2\n",
    "    A2 = softmax(Z2)\n",
    "    return A2"
   ]
  },
  {
   "cell_type": "code",
   "execution_count": 23,
   "id": "1102813d-8f9e-4723-a555-9ff8b45ef2cb",
   "metadata": {},
   "outputs": [],
   "source": [
    "#Define backward propagation\n",
    "def backward(X, y, learning_rate):\n",
    "    global W1, b1, W2, b2\n",
    "    m = y.shape[0]\n",
    "    \n",
    "    # Compute gradients\n",
    "    dZ2 = A2 - y\n",
    "    dW2 = np.dot(A1.T, dZ2) / m\n",
    "    db2 = np.sum(dZ2, axis=0, keepdims=True) / m\n",
    "    dA1 = np.dot(dZ2, W2.T)\n",
    "    dZ1 = dA1 * sigmoid_derivative(Z1)\n",
    "    dW1 = np.dot(X.T, dZ1) / m\n",
    "    db1 = np.sum(dZ1, axis=0, keepdims=True) / m\n",
    "    \n",
    "    # Update weights and biases\n",
    "    W1 -= learning_rate * dW1\n",
    "    b1 -= learning_rate * db1\n",
    "    W2 -= learning_rate * dW2\n",
    "    b2 -= learning_rate * db2"
   ]
  },
  {
   "cell_type": "code",
   "execution_count": 24,
   "id": "321df3c9-c907-404c-b4f8-caa6bcefd1f9",
   "metadata": {},
   "outputs": [
    {
     "name": "stdout",
     "output_type": "stream",
     "text": [
      "Epoch 0, Loss: 2.1039450997708835\n",
      "Epoch 100, Loss: 1.340638268054594\n",
      "Epoch 200, Loss: 1.0543186858641334\n",
      "Epoch 300, Loss: 0.9170783138446945\n",
      "Epoch 400, Loss: 0.8249687729694227\n",
      "Epoch 500, Loss: 0.7564097241261364\n",
      "Epoch 600, Loss: 0.7033927084612953\n",
      "Epoch 700, Loss: 0.661371673798101\n",
      "Epoch 800, Loss: 0.6273460087042593\n",
      "Epoch 900, Loss: 0.5992491560062295\n"
     ]
    }
   ],
   "source": [
    "epochs = 1000\n",
    "learning_rate = 0.01\n",
    "\n",
    "for epoch in range(epochs):\n",
    "    A2 = forward(X_train)\n",
    "    loss = cross_entropy_loss(y_train, A2)\n",
    "    backward(X_train, y_train, learning_rate)\n",
    "    if epoch % 100 == 0:\n",
    "        print(f'Epoch {epoch}, Loss: {loss}')"
   ]
  },
  {
   "cell_type": "code",
   "execution_count": 25,
   "id": "c07f32bd-15c1-42f4-b1b4-5e7eeff31b96",
   "metadata": {},
   "outputs": [
    {
     "name": "stdout",
     "output_type": "stream",
     "text": [
      "Accuracy: 90.00%\n"
     ]
    }
   ],
   "source": [
    "def predict(X):\n",
    "    A2 = forward(X)\n",
    "    return np.argmax(A2, axis=1)\n",
    "\n",
    "y_pred = predict(X_test)\n",
    "y_true = np.argmax(y_test, axis=1)\n",
    "accuracy = np.mean(y_pred == y_true)\n",
    "print(f'Accuracy: {accuracy * 100:.2f}%')"
   ]
  }
 ],
 "metadata": {
  "kernelspec": {
   "display_name": "Python (myenv)",
   "language": "python",
   "name": "myenv"
  },
  "language_info": {
   "codemirror_mode": {
    "name": "ipython",
    "version": 3
   },
   "file_extension": ".py",
   "mimetype": "text/x-python",
   "name": "python",
   "nbconvert_exporter": "python",
   "pygments_lexer": "ipython3",
   "version": "3.12.5"
  }
 },
 "nbformat": 4,
 "nbformat_minor": 5
}
